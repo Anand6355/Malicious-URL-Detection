{
 "cells": [
  {
   "cell_type": "code",
   "execution_count": 1,
   "id": "7e8ba6ac",
   "metadata": {
    "_cell_guid": "b1076dfc-b9ad-4769-8c92-a6c4dae69d19",
    "_uuid": "8f2839f25d086af736a60e9eeb907d3b93b6e0e5",
    "execution": {
     "iopub.execute_input": "2023-06-22T08:31:19.193669Z",
     "iopub.status.busy": "2023-06-22T08:31:19.193333Z",
     "iopub.status.idle": "2023-06-22T09:41:43.568148Z",
     "shell.execute_reply": "2023-06-22T09:41:43.567091Z"
    },
    "papermill": {
     "duration": 4224.381106,
     "end_time": "2023-06-22T09:41:43.570561",
     "exception": false,
     "start_time": "2023-06-22T08:31:19.189455",
     "status": "completed"
    },
    "tags": []
   },
   "outputs": [
    {
     "name": "stderr",
     "output_type": "stream",
     "text": [
      "/opt/conda/lib/python3.10/site-packages/tensorflow_io/python/ops/__init__.py:98: UserWarning: unable to load libtensorflow_io_plugins.so: unable to open file: libtensorflow_io_plugins.so, from paths: ['/opt/conda/lib/python3.10/site-packages/tensorflow_io/python/ops/libtensorflow_io_plugins.so']\n",
      "caused by: ['/opt/conda/lib/python3.10/site-packages/tensorflow_io/python/ops/libtensorflow_io_plugins.so: undefined symbol: _ZN3tsl6StatusC1EN10tensorflow5error4CodeESt17basic_string_viewIcSt11char_traitsIcEENS_14SourceLocationE']\n",
      "  warnings.warn(f\"unable to load libtensorflow_io_plugins.so: {e}\")\n",
      "/opt/conda/lib/python3.10/site-packages/tensorflow_io/python/ops/__init__.py:104: UserWarning: file system plugins are not loaded: unable to open file: libtensorflow_io.so, from paths: ['/opt/conda/lib/python3.10/site-packages/tensorflow_io/python/ops/libtensorflow_io.so']\n",
      "caused by: ['/opt/conda/lib/python3.10/site-packages/tensorflow_io/python/ops/libtensorflow_io.so: undefined symbol: _ZTVN10tensorflow13GcsFileSystemE']\n",
      "  warnings.warn(f\"file system plugins are not loaded: {e}\")\n"
     ]
    },
    {
     "name": "stdout",
     "output_type": "stream",
     "text": [
      "Epoch 1/10\n",
      "4070/4070 [==============================] - 409s 100ms/step - loss: 0.1690 - accuracy: 0.9455 - val_loss: 0.0979 - val_accuracy: 0.9687\n",
      "Epoch 2/10\n",
      "4070/4070 [==============================] - 409s 100ms/step - loss: 0.1022 - accuracy: 0.9676 - val_loss: 0.0845 - val_accuracy: 0.9727\n",
      "Epoch 3/10\n",
      "4070/4070 [==============================] - 412s 101ms/step - loss: 0.0880 - accuracy: 0.9722 - val_loss: 0.0835 - val_accuracy: 0.9732\n",
      "Epoch 4/10\n",
      "4070/4070 [==============================] - 410s 101ms/step - loss: 0.0800 - accuracy: 0.9745 - val_loss: 0.0756 - val_accuracy: 0.9757\n",
      "Epoch 5/10\n",
      "4070/4070 [==============================] - 413s 101ms/step - loss: 0.0740 - accuracy: 0.9765 - val_loss: 0.0767 - val_accuracy: 0.9757\n",
      "Epoch 6/10\n",
      "4070/4070 [==============================] - 412s 101ms/step - loss: 0.0693 - accuracy: 0.9778 - val_loss: 0.0729 - val_accuracy: 0.9767\n",
      "Epoch 7/10\n",
      "4070/4070 [==============================] - 413s 101ms/step - loss: 0.0661 - accuracy: 0.9786 - val_loss: 0.0748 - val_accuracy: 0.9766\n",
      "Epoch 8/10\n",
      "4070/4070 [==============================] - 413s 102ms/step - loss: 0.0617 - accuracy: 0.9799 - val_loss: 0.0747 - val_accuracy: 0.9769\n",
      "Epoch 9/10\n",
      "4070/4070 [==============================] - 412s 101ms/step - loss: 0.0593 - accuracy: 0.9807 - val_loss: 0.0772 - val_accuracy: 0.9776\n",
      "Epoch 10/10\n",
      "4070/4070 [==============================] - 414s 102ms/step - loss: 0.0577 - accuracy: 0.9809 - val_loss: 0.0743 - val_accuracy: 0.9786\n",
      "1018/1018 [==============================] - 28s 28ms/step - loss: 0.0743 - accuracy: 0.9786\n",
      "Test loss: 0.07434657961130142\n",
      "Test accuracy: 0.9786008596420288\n"
     ]
    }
   ],
   "source": [
    "import pandas as pd\n",
    "import numpy as np\n",
    "from sklearn.model_selection import train_test_split\n",
    "from sklearn.preprocessing import LabelEncoder\n",
    "from tensorflow.keras.models import Sequential\n",
    "from tensorflow.keras.layers import Embedding, Conv1D, GlobalMaxPooling1D, Dense, Dropout\n",
    "from tensorflow.keras.preprocessing.text import Tokenizer\n",
    "from tensorflow.keras.preprocessing.sequence import pad_sequences\n",
    "\n",
    "# Load the dataset\n",
    "dataset = pd.read_csv(\"/kaggle/input/malicious-urls-dataset/malicious_phish.csv\")\n",
    "\n",
    "# Extract the URL and label columns\n",
    "urls = dataset['url'].values\n",
    "labels = dataset['type'].values\n",
    "\n",
    "# Convert labels to numerical format\n",
    "label_encoder = LabelEncoder()\n",
    "labels = label_encoder.fit_transform(labels)\n",
    "\n",
    "# Split the dataset into training and testing sets\n",
    "train_urls, test_urls, train_labels, test_labels = train_test_split(urls, labels, test_size=0.2, random_state=42)\n",
    "\n",
    "# Tokenize the URLs\n",
    "max_len = 100  # Maximum sequence length\n",
    "tokenizer = Tokenizer(char_level=True)\n",
    "tokenizer.fit_on_texts(train_urls)\n",
    "train_sequences = tokenizer.texts_to_sequences(train_urls)\n",
    "test_sequences = tokenizer.texts_to_sequences(test_urls)\n",
    "\n",
    "# Pad sequences to have the same length\n",
    "train_data = pad_sequences(train_sequences, maxlen=max_len)\n",
    "test_data = pad_sequences(test_sequences, maxlen=max_len)\n",
    "\n",
    "# Build the CNN model\n",
    "model = Sequential()\n",
    "model.add(Embedding(len(tokenizer.word_index) + 1, 128, input_length=max_len))\n",
    "model.add(Conv1D(256, 5, activation='relu'))\n",
    "model.add(GlobalMaxPooling1D())\n",
    "model.add(Dense(128, activation='relu'))\n",
    "model.add(Dropout(0.5))\n",
    "model.add(Dense(4, activation='softmax'))\n",
    "\n",
    "# Compile the model\n",
    "model.compile(loss='sparse_categorical_crossentropy', optimizer='adam', metrics=['accuracy'])\n",
    "\n",
    "# Train the model\n",
    "model.fit(train_data, train_labels, validation_data=(test_data, test_labels), epochs=10, batch_size=128)\n",
    "\n",
    "# Evaluate the model\n",
    "loss, accuracy = model.evaluate(test_data, test_labels, batch_size=128)\n",
    "print(\"Test loss:\", loss)\n",
    "print(\"Test accuracy:\", accuracy)"
   ]
  },
  {
   "cell_type": "code",
   "execution_count": 2,
   "id": "61bb3ad3",
   "metadata": {
    "execution": {
     "iopub.execute_input": "2023-06-22T09:41:48.421730Z",
     "iopub.status.busy": "2023-06-22T09:41:48.421405Z",
     "iopub.status.idle": "2023-06-22T09:41:48.561792Z",
     "shell.execute_reply": "2023-06-22T09:41:48.560357Z"
    },
    "papermill": {
     "duration": 2.571256,
     "end_time": "2023-06-22T09:41:48.563794",
     "exception": false,
     "start_time": "2023-06-22T09:41:45.992538",
     "status": "completed"
    },
    "tags": []
   },
   "outputs": [
    {
     "name": "stdout",
     "output_type": "stream",
     "text": [
      "1/1 [==============================] - 0s 91ms/step\n",
      "URL: web.whatsapp.com/ --> Predicted Label: benign\n"
     ]
    }
   ],
   "source": [
    "\n",
    "# Load new data for prediction\n",
    "new_urls = [\"web.whatsapp.com/\"]  # List of new URLs\n",
    "\n",
    "# Tokenize the new URLs\n",
    "new_sequences = tokenizer.texts_to_sequences(new_urls)\n",
    "new_data = pad_sequences(new_sequences, maxlen=max_len)\n",
    "\n",
    "# Make predictions\n",
    "predictions = model.predict(new_data)\n",
    "\n",
    "# Decode the predicted labels\n",
    "predicted_labels = label_encoder.inverse_transform(np.argmax(predictions, axis=1))\n",
    "\n",
    "# Print the predicted labels\n",
    "for url, label in zip(new_urls, predicted_labels):\n",
    "    print(f\"URL: {url} --> Predicted Label: {label}\")\n"
   ]
  },
  {
   "cell_type": "code",
   "execution_count": null,
   "id": "b48a92d1",
   "metadata": {
    "papermill": {
     "duration": 2.40842,
     "end_time": "2023-06-22T09:41:53.410775",
     "exception": false,
     "start_time": "2023-06-22T09:41:51.002355",
     "status": "completed"
    },
    "tags": []
   },
   "outputs": [],
   "source": []
  }
 ],
 "metadata": {
  "kernelspec": {
   "display_name": "Python 3",
   "language": "python",
   "name": "python3"
  },
  "language_info": {
   "codemirror_mode": {
    "name": "ipython",
    "version": 3
   },
   "file_extension": ".py",
   "mimetype": "text/x-python",
   "name": "python",
   "nbconvert_exporter": "python",
   "pygments_lexer": "ipython3",
   "version": "3.10.10"
  },
  "papermill": {
   "default_parameters": {},
   "duration": 4248.534301,
   "end_time": "2023-06-22T09:41:58.930072",
   "environment_variables": {},
   "exception": null,
   "input_path": "__notebook__.ipynb",
   "output_path": "__notebook__.ipynb",
   "parameters": {},
   "start_time": "2023-06-22T08:31:10.395771",
   "version": "2.4.0"
  }
 },
 "nbformat": 4,
 "nbformat_minor": 5
}
